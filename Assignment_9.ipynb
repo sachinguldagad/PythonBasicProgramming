{
 "cells": [
  {
   "cell_type": "markdown",
   "id": "8b2f06c1",
   "metadata": {},
   "source": [
    "# 1.Write a Python program to check if the given number is a Disarium Number?\n"
   ]
  },
  {
   "cell_type": "code",
   "execution_count": 12,
   "id": "01c98d56",
   "metadata": {},
   "outputs": [
    {
     "name": "stdout",
     "output_type": "stream",
     "text": [
      "Enter number175\n",
      "Length of number is 3\n",
      "125\n",
      "174\n",
      "175\n",
      "Entered number is disarium\n"
     ]
    }
   ],
   "source": [
    "def lenOfNumber(num):\n",
    "    length=0\n",
    "    while(num!=0):\n",
    "        num//=10\n",
    "        length+=1\n",
    "    return length\n",
    "number=int(input(\"Enter number\"))\n",
    "length=lenOfNumber(number)\n",
    "print(\"Length of number is\", length)\n",
    "\n",
    "'''We have to check perticular number is Disarium or not'''\n",
    "def disarium(num,length):\n",
    "    rem=0\n",
    "    checkin=0\n",
    "    while(num>0):\n",
    "        rem=num%10\n",
    "        checkin+=int(rem**length)\n",
    "        length-=1\n",
    "        num//=10\n",
    "        print(checkin)\n",
    "    return checkin\n",
    "number1=number\n",
    "value=disarium(number1,length)\n",
    "if value==number:\n",
    "    print(\"Entered number is disarium\")\n",
    "else:\n",
    "    print(\"Entered number is not disarium\")"
   ]
  },
  {
   "cell_type": "markdown",
   "id": "532d4e38",
   "metadata": {},
   "source": [
    "# 2.Write a Python program to print all disarium numbers between 1 to 100?"
   ]
  },
  {
   "cell_type": "code",
   "execution_count": 18,
   "id": "27e5af39",
   "metadata": {},
   "outputs": [
    {
     "name": "stdout",
     "output_type": "stream",
     "text": [
      "Following numbers are disarium\n",
      "1\n",
      "2\n",
      "3\n",
      "4\n",
      "5\n",
      "6\n",
      "7\n",
      "8\n",
      "9\n",
      "89\n"
     ]
    }
   ],
   "source": [
    "def lenOfNumber(num):\n",
    "    length=0\n",
    "    while(num!=0):\n",
    "        num//=10\n",
    "        length+=1\n",
    "    return length\n",
    "\n",
    "'''We have to check perticular number is Disarium or not'''\n",
    "def disarium(num,length):\n",
    "    rem=0\n",
    "    checkin=0\n",
    "    while(num>0):\n",
    "        rem=num%10\n",
    "        checkin+=int(rem**length)\n",
    "        length-=1\n",
    "        num//=10\n",
    "    return checkin\n",
    "\n",
    "print(\"Following numbers are disarium\")\n",
    "for i in range(1,100):\n",
    "    length=lenOfNumber(i)\n",
    "    value=disarium(i,length)\n",
    "    if value==i:\n",
    "        print(value)\n"
   ]
  },
  {
   "cell_type": "markdown",
   "id": "3b1b2078",
   "metadata": {},
   "source": [
    "# 3.Write a Python program to check if the given number is Happy Number?\n"
   ]
  },
  {
   "cell_type": "code",
   "execution_count": 7,
   "id": "d3e1e6e9",
   "metadata": {},
   "outputs": [
    {
     "name": "stdout",
     "output_type": "stream",
     "text": [
      "82 is a happy number\n"
     ]
    }
   ],
   "source": [
    "#isHappyNumber() will determine whether a number is happy or not  \n",
    "def isHappyNumber(num):  \n",
    "    rem = sum = 0;  \n",
    "      \n",
    "    #Calculates the sum of squares of digits  \n",
    "    while(num > 0):  \n",
    "        rem = num%10;  \n",
    "        sum = sum + (rem*rem);  \n",
    "        num = num//10;  \n",
    "    return sum;  \n",
    "      \n",
    "num = 82;  \n",
    "result = num;  \n",
    "   \n",
    "while(result != 1 and result != 4):  \n",
    "    result = isHappyNumber(result);  \n",
    "   \n",
    "#Happy number always ends with 1  \n",
    "if(result == 1):  \n",
    "    print(str(num) + \" is a happy number\");  \n",
    "#Unhappy number ends in a cycle of repeating numbers which contain 4  \n",
    "elif(result == 4):  \n",
    "    print(str(num) + \" is not a happy number\");        "
   ]
  },
  {
   "cell_type": "markdown",
   "id": "e49070f6",
   "metadata": {},
   "source": [
    "# 4.Write a Python program to print all happy numbers between 1 and 100?"
   ]
  },
  {
   "cell_type": "code",
   "execution_count": 6,
   "id": "030abf2e",
   "metadata": {},
   "outputs": [
    {
     "name": "stdout",
     "output_type": "stream",
     "text": [
      "1 is a happy number\n",
      "2 is not a happy number\n",
      "3 is not a happy number\n",
      "4 is not a happy number\n",
      "5 is not a happy number\n",
      "6 is not a happy number\n",
      "7 is a happy number\n",
      "8 is not a happy number\n",
      "9 is not a happy number\n",
      "10 is a happy number\n",
      "11 is not a happy number\n",
      "12 is not a happy number\n",
      "13 is a happy number\n",
      "14 is not a happy number\n",
      "15 is not a happy number\n",
      "16 is not a happy number\n",
      "17 is not a happy number\n",
      "18 is not a happy number\n",
      "19 is a happy number\n",
      "20 is not a happy number\n",
      "21 is not a happy number\n",
      "22 is not a happy number\n",
      "23 is a happy number\n",
      "24 is not a happy number\n",
      "25 is not a happy number\n",
      "26 is not a happy number\n",
      "27 is not a happy number\n",
      "28 is a happy number\n",
      "29 is not a happy number\n",
      "30 is not a happy number\n",
      "31 is a happy number\n",
      "32 is a happy number\n",
      "33 is not a happy number\n",
      "34 is not a happy number\n",
      "35 is not a happy number\n",
      "36 is not a happy number\n",
      "37 is not a happy number\n",
      "38 is not a happy number\n",
      "39 is not a happy number\n",
      "40 is not a happy number\n",
      "41 is not a happy number\n",
      "42 is not a happy number\n",
      "43 is not a happy number\n",
      "44 is a happy number\n",
      "45 is not a happy number\n",
      "46 is not a happy number\n",
      "47 is not a happy number\n",
      "48 is not a happy number\n",
      "49 is a happy number\n",
      "50 is not a happy number\n",
      "51 is not a happy number\n",
      "52 is not a happy number\n",
      "53 is not a happy number\n",
      "54 is not a happy number\n",
      "55 is not a happy number\n",
      "56 is not a happy number\n",
      "57 is not a happy number\n",
      "58 is not a happy number\n",
      "59 is not a happy number\n",
      "60 is not a happy number\n",
      "61 is not a happy number\n",
      "62 is not a happy number\n",
      "63 is not a happy number\n",
      "64 is not a happy number\n",
      "65 is not a happy number\n",
      "66 is not a happy number\n",
      "67 is not a happy number\n",
      "68 is a happy number\n",
      "69 is not a happy number\n",
      "70 is a happy number\n",
      "71 is not a happy number\n",
      "72 is not a happy number\n",
      "73 is not a happy number\n",
      "74 is not a happy number\n",
      "75 is not a happy number\n",
      "76 is not a happy number\n",
      "77 is not a happy number\n",
      "78 is not a happy number\n",
      "79 is a happy number\n",
      "80 is not a happy number\n",
      "81 is not a happy number\n",
      "82 is a happy number\n",
      "83 is not a happy number\n",
      "84 is not a happy number\n",
      "85 is not a happy number\n",
      "86 is a happy number\n",
      "87 is not a happy number\n",
      "88 is not a happy number\n",
      "89 is not a happy number\n",
      "90 is not a happy number\n",
      "91 is a happy number\n",
      "92 is not a happy number\n",
      "93 is not a happy number\n",
      "94 is a happy number\n",
      "95 is not a happy number\n",
      "96 is not a happy number\n",
      "97 is a happy number\n",
      "98 is not a happy number\n",
      "99 is not a happy number\n",
      "100 is a happy number\n"
     ]
    }
   ],
   "source": [
    "#isHappyNumber() will determine whether a number is happy or not  \n",
    "def isHappyNumber(num):  \n",
    "    rem = sum = 0;  \n",
    "      \n",
    "    #Calculates the sum of squares of digits  \n",
    "    while(num > 0):  \n",
    "        rem = num%10;  \n",
    "        sum = sum + (rem*rem);  \n",
    "        num = num//10;  \n",
    "    return sum;  \n",
    "      \n",
    "for result in range(1,101):\n",
    "    i=result\n",
    "    while(result != 1 and result != 4):  \n",
    "        result = isHappyNumber(result);  \n",
    "\n",
    "    #Happy number always ends with 1  \n",
    "    if(result == 1):  \n",
    "        print(str(i) + \" is a happy number\");  \n",
    "    #Unhappy number ends in a cycle of repeating numbers which contain 4  \n",
    "    elif(result == 4):  \n",
    "        print(str(i) + \" is not a happy number\");     "
   ]
  },
  {
   "cell_type": "markdown",
   "id": "e5de1d61",
   "metadata": {},
   "source": [
    "# 5.Write a Python program to determine whether the given number is a Harshad Number?\n"
   ]
  },
  {
   "cell_type": "code",
   "execution_count": 2,
   "id": "d8809183",
   "metadata": {},
   "outputs": [
    {
     "name": "stdout",
     "output_type": "stream",
     "text": [
      "156 is a harshad number\n"
     ]
    }
   ],
   "source": [
    "num = 156;    \n",
    "rem = sum = 0;    \n",
    "     \n",
    "#Make a copy of num and store it in variable n    \n",
    "n = num;    \n",
    "     \n",
    "#Calculates sum of digits    \n",
    "while(num > 0):    \n",
    "    rem = num%10;    \n",
    "    sum = sum + rem;    \n",
    "    num = num//10;    \n",
    "     \n",
    "#Checks whether the number is divisible by the sum of digits    \n",
    "if(n%sum == 0):    \n",
    "    print(str(n) + \" is a harshad number\");    \n",
    "else:    \n",
    "    print(str(n) + \" is not a harshad number\");    "
   ]
  },
  {
   "cell_type": "markdown",
   "id": "35522900",
   "metadata": {},
   "source": [
    "# 6.Write a Python program to print all pronic numbers between 1 and 100?"
   ]
  },
  {
   "cell_type": "code",
   "execution_count": 1,
   "id": "fd32f345",
   "metadata": {},
   "outputs": [
    {
     "name": "stdout",
     "output_type": "stream",
     "text": [
      "Pronic numbers between 1 and 100: \n",
      "2\n",
      " \n",
      "6\n",
      " \n",
      "12\n",
      " \n",
      "20\n",
      " \n",
      "30\n",
      " \n",
      "42\n",
      " \n",
      "56\n",
      " \n",
      "72\n",
      " \n",
      "90\n",
      " \n"
     ]
    }
   ],
   "source": [
    "def isPronicNumber(num):    \n",
    "    flag = False;    \n",
    "        \n",
    "    for j in range(1, num+1):    \n",
    "        #Checks for pronic number by multiplying consecutive numbers    \n",
    "        if((j*(j+1)) == num):    \n",
    "            flag = True;    \n",
    "            break;    \n",
    "    return flag;    \n",
    "     \n",
    "#Displays pronic numbers between 1 and 100    \n",
    "print(\"Pronic numbers between 1 and 100: \");    \n",
    "for i in range(1, 101):    \n",
    "    if(isPronicNumber(i)):    \n",
    "        print(i),    \n",
    "        print(\" \"),    "
   ]
  },
  {
   "cell_type": "code",
   "execution_count": null,
   "id": "52f63bfd",
   "metadata": {},
   "outputs": [],
   "source": []
  }
 ],
 "metadata": {
  "kernelspec": {
   "display_name": "Python 3 (ipykernel)",
   "language": "python",
   "name": "python3"
  },
  "language_info": {
   "codemirror_mode": {
    "name": "ipython",
    "version": 3
   },
   "file_extension": ".py",
   "mimetype": "text/x-python",
   "name": "python",
   "nbconvert_exporter": "python",
   "pygments_lexer": "ipython3",
   "version": "3.9.7"
  }
 },
 "nbformat": 4,
 "nbformat_minor": 5
}
