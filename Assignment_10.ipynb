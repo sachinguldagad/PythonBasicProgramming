{
 "cells": [
  {
   "cell_type": "markdown",
   "id": "99cd8a19",
   "metadata": {},
   "source": [
    "# 1.\tWrite a Python program to find sum of elements in list?"
   ]
  },
  {
   "cell_type": "code",
   "execution_count": 7,
   "id": "0c0870dc",
   "metadata": {},
   "outputs": [
    {
     "name": "stdout",
     "output_type": "stream",
     "text": [
      "Enter size of list4\n",
      "5\n",
      "6\n",
      "7\n",
      "8\n",
      "[5, 6, 7, 8]\n",
      "26\n"
     ]
    }
   ],
   "source": [
    "size=int(input(\"Enter size of list\"))\n",
    "lst=[]\n",
    "i=0\n",
    "while(size!=i):\n",
    "    element=int(input())\n",
    "    i+=1\n",
    "    lst.append(element)\n",
    "print(lst)\n",
    "'''To print sum of elements in list'''\n",
    "sum=0\n",
    "for i in lst:\n",
    "    sum+=i\n",
    "print(sum)"
   ]
  },
  {
   "cell_type": "markdown",
   "id": "a736dfeb",
   "metadata": {},
   "source": [
    "# 2.\tWrite a Python program to  Multiply all numbers in the list?\n"
   ]
  },
  {
   "cell_type": "code",
   "execution_count": 6,
   "id": "4fe2382a",
   "metadata": {},
   "outputs": [
    {
     "name": "stdout",
     "output_type": "stream",
     "text": [
      "Enter size of list2\n",
      "3\n",
      "4\n",
      "[3, 4]\n",
      "12\n"
     ]
    }
   ],
   "source": [
    "size=int(input(\"Enter size of list\"))\n",
    "lst=[]\n",
    "i=0\n",
    "while(size!=i):\n",
    "    element=int(input())\n",
    "    i+=1\n",
    "    lst.append(element)\n",
    "print(lst)\n",
    "'''To print sum of elements in list'''\n",
    "mul=1\n",
    "for i in lst:\n",
    "    mul=mul*i\n",
    "print(mul)"
   ]
  },
  {
   "cell_type": "markdown",
   "id": "9e853202",
   "metadata": {},
   "source": [
    "# 3.\tWrite a Python program to find smallest number in a list?\n"
   ]
  },
  {
   "cell_type": "code",
   "execution_count": 9,
   "id": "6db4f021",
   "metadata": {},
   "outputs": [
    {
     "name": "stdout",
     "output_type": "stream",
     "text": [
      "Enter size of list7\n",
      "43\n",
      "23\n",
      "12\n",
      "1\n",
      "5\n",
      "74\n",
      "54\n",
      "[43, 23, 12, 1, 5, 74, 54]\n",
      "1\n"
     ]
    }
   ],
   "source": [
    "size=int(input(\"Enter size of list\"))\n",
    "lst=[]\n",
    "i=0\n",
    "while(size!=i):\n",
    "    element=int(input())\n",
    "    i+=1\n",
    "    lst.append(element)\n",
    "print(lst)\n",
    "max=100000\n",
    "for i in lst:\n",
    "    if max>i:\n",
    "        max=i\n",
    "print(max)"
   ]
  },
  {
   "cell_type": "markdown",
   "id": "57457c6b",
   "metadata": {},
   "source": [
    "# 4.\tWrite a Python program to find largest number in a list?\n"
   ]
  },
  {
   "cell_type": "code",
   "execution_count": 10,
   "id": "ddc06de8",
   "metadata": {},
   "outputs": [
    {
     "name": "stdout",
     "output_type": "stream",
     "text": [
      "Enter size of list3\n",
      "12\n",
      "32\n",
      "678\n",
      "[12, 32, 678]\n",
      "678\n"
     ]
    }
   ],
   "source": [
    "size=int(input(\"Enter size of list\"))\n",
    "lst=[]\n",
    "i=0\n",
    "while(size!=i):\n",
    "    element=int(input())\n",
    "    i+=1\n",
    "    lst.append(element)\n",
    "print(lst)\n",
    "max=0\n",
    "for i in lst:\n",
    "    if max<i:\n",
    "        max=i\n",
    "print(max)"
   ]
  },
  {
   "cell_type": "markdown",
   "id": "c2508cb3",
   "metadata": {},
   "source": [
    "# 5.\tWrite a Python program to find second largest number in a list?\n"
   ]
  },
  {
   "cell_type": "code",
   "execution_count": 11,
   "id": "f553471d",
   "metadata": {},
   "outputs": [
    {
     "name": "stdout",
     "output_type": "stream",
     "text": [
      "Enter size of list4\n",
      "2\n",
      "14\n",
      "5\n",
      "43\n",
      "[2, 14, 5, 43]\n",
      "14\n"
     ]
    }
   ],
   "source": [
    "size=int(input(\"Enter size of list\"))\n",
    "lst=[]\n",
    "i=0\n",
    "while(size!=i):\n",
    "    element=int(input())\n",
    "    i+=1\n",
    "    lst.append(element)\n",
    "print(lst)\n",
    "lst.sort()\n",
    "print(lst[-2])"
   ]
  },
  {
   "cell_type": "markdown",
   "id": "4e7b48e3",
   "metadata": {},
   "source": [
    "# 6.\tWrite a Python program to find N largest elements from a list?\n"
   ]
  },
  {
   "cell_type": "code",
   "execution_count": 12,
   "id": "5d096bdd",
   "metadata": {},
   "outputs": [
    {
     "name": "stdout",
     "output_type": "stream",
     "text": [
      "Enter size of list5\n",
      "Which largest elements from list you have to print3\n",
      "2\n",
      "1\n",
      "4\n",
      "67\n",
      "43\n",
      "[2, 1, 4, 67, 43]\n",
      "43\n"
     ]
    }
   ],
   "source": [
    "size=int(input(\"Enter size of list\"))\n",
    "n=int(input(\"Which largest elements from list you have to print\"))\n",
    "lst=[]\n",
    "i=0\n",
    "while(size!=i):\n",
    "    element=int(input())\n",
    "    i+=1\n",
    "    lst.append(element)\n",
    "print(lst)\n",
    "lst.sort()\n",
    "print(lst[n])"
   ]
  },
  {
   "cell_type": "markdown",
   "id": "56357627",
   "metadata": {},
   "source": [
    "# 7.\tWrite a Python program to print even numbers in a list?\n"
   ]
  },
  {
   "cell_type": "code",
   "execution_count": 1,
   "id": "3dec0c8a",
   "metadata": {},
   "outputs": [
    {
     "name": "stdout",
     "output_type": "stream",
     "text": [
      "Enter size of list4\n",
      "3\n",
      "2\n",
      "6\n",
      "7\n",
      "[3, 2, 6, 7]\n",
      "2\n",
      "6\n"
     ]
    }
   ],
   "source": [
    "size=int(input(\"Enter size of list\"))\n",
    "\n",
    "lst=[]\n",
    "i=0\n",
    "while(size!=i):\n",
    "    element=int(input())\n",
    "    i+=1\n",
    "    lst.append(element)\n",
    "print(lst)\n",
    "for i in lst:\n",
    "    if i%2==0:\n",
    "        print(i)"
   ]
  },
  {
   "cell_type": "markdown",
   "id": "7666cded",
   "metadata": {},
   "source": [
    "# 8.\tWrite a Python program to print odd numbers in a List?\n"
   ]
  },
  {
   "cell_type": "code",
   "execution_count": 1,
   "id": "52bff7dd",
   "metadata": {},
   "outputs": [
    {
     "name": "stdout",
     "output_type": "stream",
     "text": [
      "Enter size of list7\n",
      "2\n",
      "1\n",
      "4\n",
      "5\n",
      "7\n",
      "67\n",
      "43\n",
      "[2, 1, 4, 5, 7, 67, 43]\n",
      "1\n",
      "5\n",
      "7\n",
      "67\n",
      "43\n"
     ]
    }
   ],
   "source": [
    "size=int(input(\"Enter size of list\"))\n",
    "\n",
    "lst=[]\n",
    "i=0\n",
    "while(size!=i):\n",
    "    element=int(input())\n",
    "    i+=1\n",
    "    lst.append(element)\n",
    "print(lst)\n",
    "for i in lst:\n",
    "    if i%2!=0:\n",
    "        print(i)"
   ]
  },
  {
   "cell_type": "markdown",
   "id": "f7dc8405",
   "metadata": {},
   "source": [
    "# 9.Write a Python program to Remove empty List from List?"
   ]
  },
  {
   "cell_type": "code",
   "execution_count": 2,
   "id": "fd9ec1c7",
   "metadata": {},
   "outputs": [
    {
     "name": "stdout",
     "output_type": "stream",
     "text": [
      "The original list is : [5, 6, [], 3, [], [], 9]\n",
      "List after empty list removal : [5, 6, 3, 9]\n"
     ]
    }
   ],
   "source": [
    "# Python3 code to demonstrate \n",
    "# Remove empty List from List\n",
    "# using list comprehension\n",
    "  \n",
    "# Initializing list \n",
    "test_list = [5, 6, [], 3, [], [], 9]\n",
    "  \n",
    "# printing original list \n",
    "print(\"The original list is : \" + str(test_list))\n",
    "  \n",
    "# Remove empty List from List\n",
    "# using list comprehension\n",
    "res = [ele for ele in test_list if ele != []]\n",
    "  \n",
    "# printing result \n",
    "print (\"List after empty list removal : \" + str(res))"
   ]
  },
  {
   "cell_type": "markdown",
   "id": "172f0518",
   "metadata": {},
   "source": [
    "# 10.\tWrite a Python program to Cloning or Copying a list?"
   ]
  },
  {
   "cell_type": "code",
   "execution_count": null,
   "id": "47d3d4a3",
   "metadata": {},
   "outputs": [],
   "source": [
    "# Python program to copy or clone a list\n",
    "# Using the Slice Operator\n",
    "def Cloning(li1):\n",
    "    li_copy = li1[:]\n",
    "    return li_copy\n",
    "   \n",
    "# Driver Code\n",
    "li1 = [4, 8, 2, 10, 15, 18]\n",
    "li2 = Cloning(li1)\n",
    "print(\"Original List:\", li1)\n",
    "print(\"After Cloning:\", li2)"
   ]
  },
  {
   "cell_type": "markdown",
   "id": "ab735b6b",
   "metadata": {},
   "source": [
    "# 11.\tWrite a Python program to Count occurrences of an element in a list?"
   ]
  },
  {
   "cell_type": "code",
   "execution_count": 5,
   "id": "a054d0c6",
   "metadata": {},
   "outputs": [
    {
     "name": "stdout",
     "output_type": "stream",
     "text": [
      "Enter size of list4\n",
      "2\n",
      "2\n",
      "3\n",
      "4\n",
      "[2, 2, 3, 4]\n",
      "2 has occurred 2 times\n",
      "2 has occurred 2 times\n",
      "3 has occurred 1 times\n",
      "4 has occurred 1 times\n"
     ]
    }
   ],
   "source": [
    "size=int(input(\"Enter size of list\"))\n",
    "lst=[]\n",
    "i=0\n",
    "while(size!=i):\n",
    "    element=int(input())\n",
    "    i+=1\n",
    "    lst.append(element)\n",
    "print(lst)\n",
    "\n",
    "for i in lst:\n",
    "    print('{} has occurred {} times'.format(i,lst.count(i)))"
   ]
  },
  {
   "cell_type": "code",
   "execution_count": null,
   "id": "a1083eb7",
   "metadata": {},
   "outputs": [],
   "source": []
  },
  {
   "cell_type": "code",
   "execution_count": null,
   "id": "917965c5",
   "metadata": {},
   "outputs": [],
   "source": []
  }
 ],
 "metadata": {
  "kernelspec": {
   "display_name": "Python 3 (ipykernel)",
   "language": "python",
   "name": "python3"
  },
  "language_info": {
   "codemirror_mode": {
    "name": "ipython",
    "version": 3
   },
   "file_extension": ".py",
   "mimetype": "text/x-python",
   "name": "python",
   "nbconvert_exporter": "python",
   "pygments_lexer": "ipython3",
   "version": "3.9.7"
  }
 },
 "nbformat": 4,
 "nbformat_minor": 5
}
