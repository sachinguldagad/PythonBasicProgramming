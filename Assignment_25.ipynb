{
 "cells": [
  {
   "cell_type": "markdown",
   "id": "cbbc9e6f",
   "metadata": {},
   "source": [
    "# Question1\n",
    "Create a function that takes three integer arguments (a, b, c) and returns the amount of integers which are of equal value.\n",
    "Examples\n",
    "equal(3, 4, 3) ➞ 2\n",
    "\n",
    "equal(1, 1, 1) ➞ 3\n",
    "\n",
    "equal(3, 4, 1) ➞ 0 \n",
    "\n",
    "Notes\n",
    "Your function must return 0, 2 or 3."
   ]
  },
  {
   "cell_type": "code",
   "execution_count": 2,
   "id": "f3b32171",
   "metadata": {},
   "outputs": [],
   "source": [
    "def equal(first,second,third):\n",
    "    if first==second and second==third:\n",
    "        print(\"3\")\n",
    "    elif first==second or second==third or first==third:\n",
    "        print(\"2\")\n",
    "    else:\n",
    "        print(\"0\")\n",
    "    "
   ]
  },
  {
   "cell_type": "code",
   "execution_count": 3,
   "id": "8ecc16dc",
   "metadata": {},
   "outputs": [
    {
     "name": "stdout",
     "output_type": "stream",
     "text": [
      "3\n"
     ]
    }
   ],
   "source": [
    "equal(1, 1, 1)"
   ]
  },
  {
   "cell_type": "code",
   "execution_count": 4,
   "id": "8499f413",
   "metadata": {},
   "outputs": [
    {
     "name": "stdout",
     "output_type": "stream",
     "text": [
      "0\n"
     ]
    }
   ],
   "source": [
    "equal(3, 4, 1)"
   ]
  },
  {
   "cell_type": "markdown",
   "id": "d3557375",
   "metadata": {},
   "source": [
    "# Question2\n",
    "Write a function that converts a dictionary into a list of keys-values tuples.\n",
    "Examples\n",
    "dict_to_list({\n",
    "  \"D\": 1,\n",
    "  \"B\": 2,\n",
    "  \"C\": 3\n",
    "}) ➞ [(\"B\", 2), (\"C\", 3), (\"D\", 1)]\n",
    "\n",
    "dict_to_list({\n",
    "  \"likes\": 2,\n",
    "  \"dislikes\": 3,\n",
    "  \"followers\": 10\n",
    "}) ➞ [(\"dislikes\", 3), (\"followers\", 10), (\"likes\", 2)]\n",
    "Notes\n",
    "Return the elements in the list in alphabetical order."
   ]
  },
  {
   "cell_type": "code",
   "execution_count": 35,
   "id": "40b62433",
   "metadata": {},
   "outputs": [],
   "source": [
    "def dict_to_list(d):\n",
    "    return list(d.items())"
   ]
  },
  {
   "cell_type": "code",
   "execution_count": 36,
   "id": "e09d2df3",
   "metadata": {},
   "outputs": [
    {
     "data": {
      "text/plain": [
       "[('D', 1), ('B', 2), ('C', 3)]"
      ]
     },
     "execution_count": 36,
     "metadata": {},
     "output_type": "execute_result"
    }
   ],
   "source": [
    "dict_to_list({\n",
    "    'D': 1,\n",
    "    'B': 2,\n",
    "    'C': 3\n",
    "    })"
   ]
  },
  {
   "cell_type": "code",
   "execution_count": 37,
   "id": "fb357b59",
   "metadata": {},
   "outputs": [
    {
     "data": {
      "text/plain": [
       "[('likes', 2), ('dislikes', 3), ('followers', 10)]"
      ]
     },
     "execution_count": 37,
     "metadata": {},
     "output_type": "execute_result"
    }
   ],
   "source": [
    "dict_to_list({\n",
    "    'likes': 2,\n",
    "    'dislikes': 3,\n",
    "    'followers': 10\n",
    "    })"
   ]
  },
  {
   "cell_type": "markdown",
   "id": "3f128199",
   "metadata": {},
   "source": [
    "# Question3\n",
    "Write a function that creates a dictionary with each (key, value) pair being the (lower case, upper case) versions of a letter, respectively.\n",
    "Examples\n",
    "mapping([\"p\", \"s\"]) ➞ { \"p\": \"P\", \"s\": \"S\" }\n",
    "\n",
    "mapping([\"a\", \"b\", \"c\"]) ➞ { \"a\": \"A\", \"b\": \"B\", \"c\": \"C\" }\n",
    "\n",
    "mapping([\"a\", \"v\", \"y\", \"z\"]) ➞ { \"a\": \"A\", \"v\": \"V\", \"y\": \"Y\", \"z\": \"Z\" }\n",
    "Notes\n",
    "All of the letters in the input list will always be lowercase."
   ]
  },
  {
   "cell_type": "code",
   "execution_count": 11,
   "id": "58d23771",
   "metadata": {},
   "outputs": [],
   "source": [
    "def mapping(lst):\n",
    "    mydict={}\n",
    "    for i in range(len(lst)):\n",
    "        mydict.update({lst[i]:lst[i].upper()})\n",
    "    print(mydict)"
   ]
  },
  {
   "cell_type": "code",
   "execution_count": 12,
   "id": "1294e7bf",
   "metadata": {},
   "outputs": [
    {
     "name": "stdout",
     "output_type": "stream",
     "text": [
      "{'p': 'P', 's': 'S'}\n"
     ]
    }
   ],
   "source": [
    "mapping([\"p\", \"s\"])"
   ]
  },
  {
   "cell_type": "code",
   "execution_count": 13,
   "id": "8f5a1ffc",
   "metadata": {},
   "outputs": [
    {
     "name": "stdout",
     "output_type": "stream",
     "text": [
      "{'a': 'A', 'v': 'V', 'y': 'Y', 'z': 'Z'}\n"
     ]
    }
   ],
   "source": [
    "mapping([\"a\", \"v\", \"y\", \"z\"]) "
   ]
  },
  {
   "cell_type": "markdown",
   "id": "fa80e6c0",
   "metadata": {},
   "source": [
    "# Question4\n",
    "Write a function, that replaces all vowels in a string with a specified vowel.\n",
    "Examples\n",
    "vow_replace(\"apples and bananas\", \"u\") ➞ \"upplus und bununus\"\n",
    "\n",
    "vow_replace(\"cheese casserole\", \"o\") ➞ \"chooso cossorolo\"\n",
    "\n",
    "vow_replace(\"stuffed jalapeno poppers\", \"e\") ➞ \"steffed jelepene peppers\"\n",
    "Notes\n",
    "All words will be lowercase. Y is not considered a vowel."
   ]
  },
  {
   "cell_type": "code",
   "execution_count": 18,
   "id": "c914c267",
   "metadata": {},
   "outputs": [],
   "source": [
    "def vow_replace(string1,replacement):\n",
    "    for i in range(len(string1)):\n",
    "        if string1[i] in \"aeiouAEIOU\":\n",
    "            string1=string1[:i]+replacement+string1[i+1:]\n",
    "    print(string1)"
   ]
  },
  {
   "cell_type": "code",
   "execution_count": 19,
   "id": "6f039693",
   "metadata": {},
   "outputs": [
    {
     "name": "stdout",
     "output_type": "stream",
     "text": [
      "chooso cossorolo\n"
     ]
    }
   ],
   "source": [
    "vow_replace(\"cheese casserole\", \"o\")"
   ]
  },
  {
   "cell_type": "code",
   "execution_count": 20,
   "id": "f69b62b3",
   "metadata": {},
   "outputs": [
    {
     "name": "stdout",
     "output_type": "stream",
     "text": [
      "steffed jelepene peppers\n"
     ]
    }
   ],
   "source": [
    "vow_replace(\"stuffed jalapeno poppers\", \"e\") "
   ]
  },
  {
   "cell_type": "markdown",
   "id": "cd437578",
   "metadata": {},
   "source": [
    "# Question5\n",
    "Create a function that takes a string as input and capitalizes a letter if its ASCII code is even and returns its lower case version if its ASCII code is odd.\n",
    "Examples\n",
    "ascii_capitalize(\"to be or not to be!\") ➞ \"To Be oR NoT To Be!\"\n",
    "\n",
    "ascii_capitalize(\"THE LITTLE MERMAID\") ➞ \"THe LiTTLe meRmaiD\"\n",
    "\n",
    "ascii_capitalize(\"Oh what a beautiful morning.\") ➞ \"oH wHaT a BeauTiFuL moRNiNg.\""
   ]
  },
  {
   "cell_type": "code",
   "execution_count": 32,
   "id": "3cf94c26",
   "metadata": {},
   "outputs": [],
   "source": [
    "def ascii_capitalize(s):\n",
    "    s1 = []\n",
    "    for i in range(len(s)):\n",
    "        if ord(s[i]) % 2 == 0:\n",
    "            s1.append(s[i].upper())\n",
    "        else:\n",
    "            s1.append(s[i].lower())\n",
    "\n",
    "    return \"\".join((s1))"
   ]
  },
  {
   "cell_type": "code",
   "execution_count": 33,
   "id": "20022db1",
   "metadata": {},
   "outputs": [
    {
     "data": {
      "text/plain": [
       "'THe LiTTLe meRmaiD'"
      ]
     },
     "execution_count": 33,
     "metadata": {},
     "output_type": "execute_result"
    }
   ],
   "source": [
    "ascii_capitalize(\"THE LITTLE MERMAID\") "
   ]
  },
  {
   "cell_type": "code",
   "execution_count": 34,
   "id": "46fb0250",
   "metadata": {},
   "outputs": [
    {
     "data": {
      "text/plain": [
       "'oH wHaT a BeauTiFuL moRNiNg.'"
      ]
     },
     "execution_count": 34,
     "metadata": {},
     "output_type": "execute_result"
    }
   ],
   "source": [
    "ascii_capitalize(\"Oh what a beautiful morning.\") "
   ]
  }
 ],
 "metadata": {
  "kernelspec": {
   "display_name": "Python 3 (ipykernel)",
   "language": "python",
   "name": "python3"
  },
  "language_info": {
   "codemirror_mode": {
    "name": "ipython",
    "version": 3
   },
   "file_extension": ".py",
   "mimetype": "text/x-python",
   "name": "python",
   "nbconvert_exporter": "python",
   "pygments_lexer": "ipython3",
   "version": "3.9.7"
  }
 },
 "nbformat": 4,
 "nbformat_minor": 5
}
