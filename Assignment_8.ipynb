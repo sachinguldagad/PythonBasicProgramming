{
 "cells": [
  {
   "cell_type": "markdown",
   "id": "5eafaa3d",
   "metadata": {},
   "source": [
    "# 1.\tWrite a Python Program to Add Two Matrices?"
   ]
  },
  {
   "cell_type": "code",
   "execution_count": 12,
   "id": "a3149a33",
   "metadata": {},
   "outputs": [
    {
     "name": "stdout",
     "output_type": "stream",
     "text": [
      "Enter the number of rows:3\n",
      "Enter the number of columns:3\n",
      "Enter the entries rowwise:\n",
      "1\n",
      "2\n",
      "3\n",
      "1\n",
      "2\n",
      "3\n",
      "1\n",
      "2\n",
      "3\n",
      "1 2 3 \n",
      "1 2 3 \n",
      "1 2 3 \n",
      "Enter the number of rows:3\n",
      "Enter the number of columns:3\n",
      "Enter the entries rowwise:\n",
      "1\n",
      "2\n",
      "3\n",
      "1\n",
      "2\n",
      "3\n",
      "1\n",
      "2\n",
      "3\n",
      "1 2 3 \n",
      "1 2 3 \n",
      "1 2 3 \n",
      "[2, 4, 6]\n",
      "[2, 4, 6]\n",
      "[2, 4, 6]\n"
     ]
    }
   ],
   "source": [
    "def matrixInput():\n",
    "    R = int(input(\"Enter the number of rows:\"))\n",
    "    C = int(input(\"Enter the number of columns:\"))\n",
    "    \n",
    "    # Initialize matrix\n",
    "    matrix = []\n",
    "    print(\"Enter the entries rowwise:\")\n",
    "\n",
    "    # For user input\n",
    "    for i in range(R):          # A for loop for row entries\n",
    "        a =[]\n",
    "        for j in range(C):      # A for loop for column entries\n",
    "             a.append(int(input()))\n",
    "        matrix.append(a)\n",
    "\n",
    "    # For printing the matrix\n",
    "    for i in range(R):\n",
    "        for j in range(C):\n",
    "            print(matrix[i][j], end = \" \")\n",
    "        print()\n",
    "    return matrix\n",
    "matrix1=matrixInput()\n",
    "matrix2=matrixInput()\n",
    "result = [[0,0,0],\n",
    "        [0,0,0],\n",
    "        [0,0,0]]\n",
    "for i in range(len(matrix1)):  \n",
    "# iterate through columns\n",
    "    for j in range(len(matrix1[0])):\n",
    "        result[i][j] = matrix1[i][j] + matrix2[i][j]\n",
    " \n",
    "for r in result:\n",
    "    print(r)"
   ]
  },
  {
   "cell_type": "markdown",
   "id": "fe6aad76",
   "metadata": {},
   "source": [
    "## 2.\tWrite a Python Program to Multiply Two Matrices?\n"
   ]
  },
  {
   "cell_type": "code",
   "execution_count": 13,
   "id": "3fdf8e30",
   "metadata": {},
   "outputs": [
    {
     "name": "stdout",
     "output_type": "stream",
     "text": [
      "[114, 160, 60, 27]\n",
      "[74, 97, 73, 14]\n",
      "[119, 157, 112, 23]\n"
     ]
    }
   ],
   "source": [
    " \n",
    "# take a 3x3 matrix\n",
    "A = [[12, 7, 3],\n",
    "    [4, 5, 6],\n",
    "    [7, 8, 9]]\n",
    " \n",
    "# take a 3x4 matrix   \n",
    "B = [[5, 8, 1, 2],\n",
    "    [6, 7, 3, 0],\n",
    "    [4, 5, 9, 1]]\n",
    "     \n",
    "result = [[0, 0, 0, 0],\n",
    "        [0, 0, 0, 0],\n",
    "        [0, 0, 0, 0]]\n",
    " \n",
    "# iterating by row of A\n",
    "for i in range(len(A)):\n",
    " \n",
    "    # iterating by column by B\n",
    "    for j in range(len(B[0])):\n",
    " \n",
    "        # iterating by rows of B\n",
    "        for k in range(len(B)):\n",
    "            result[i][j] += A[i][k] * B[k][j]\n",
    " \n",
    "for r in result:\n",
    "    print(r)"
   ]
  },
  {
   "cell_type": "markdown",
   "id": "cb41f52a",
   "metadata": {},
   "source": [
    "# 3.\tWrite a Python Program to Transpose a Matrix?\n"
   ]
  },
  {
   "cell_type": "code",
   "execution_count": 14,
   "id": "06aafd65",
   "metadata": {},
   "outputs": [
    {
     "name": "stdout",
     "output_type": "stream",
     "text": [
      "[12, 4, 3]\n",
      "[7, 5, 8]\n"
     ]
    }
   ],
   "source": [
    "\n",
    "X = [[12,7],\n",
    "    [4 ,5],\n",
    "    [3 ,8]]\n",
    "\n",
    "result = [[0,0,0],\n",
    "         [0,0,0]]\n",
    "\n",
    "# iterate through rows\n",
    "for i in range(len(X)):\n",
    "   # iterate through columns\n",
    "   for j in range(len(X[0])):\n",
    "       result[j][i] = X[i][j]\n",
    "\n",
    "for r in result:\n",
    "   print(r)"
   ]
  },
  {
   "cell_type": "markdown",
   "id": "813c103f",
   "metadata": {},
   "source": [
    "# 4.\tWrite a Python Program to Sort Words in Alphabetic Order?"
   ]
  },
  {
   "cell_type": "code",
   "execution_count": 15,
   "id": "e7f41ffb",
   "metadata": {},
   "outputs": [
    {
     "name": "stdout",
     "output_type": "stream",
     "text": [
      "Enter sentenceSachin Balasaheb Guldagad\n",
      "The sorted words are:\n",
      "balasaheb\n",
      "guldagad\n",
      "sachin\n"
     ]
    }
   ],
   "source": [
    "# Program to sort alphabetically the words form a string provided by the user\n",
    "\n",
    "my_str = input(\"Enter sentence\")\n",
    "\n",
    "# To take input from the user\n",
    "#my_str = input(\"Enter a string: \")\n",
    "\n",
    "# breakdown the string into a list of words\n",
    "words = [word.lower() for word in my_str.split()]\n",
    "\n",
    "# sort the list\n",
    "words.sort()\n",
    "\n",
    "# display the sorted words\n",
    "\n",
    "print(\"The sorted words are:\")\n",
    "for word in words:\n",
    "   print(word)"
   ]
  },
  {
   "cell_type": "markdown",
   "id": "44f53304",
   "metadata": {},
   "source": [
    "# 5.\tWrite a Python Program to Remove Punctuation From a String?"
   ]
  },
  {
   "cell_type": "code",
   "execution_count": 16,
   "id": "94d8417b",
   "metadata": {},
   "outputs": [
    {
     "name": "stdout",
     "output_type": "stream",
     "text": [
      "Enter the sentencesachin. Guldagad\n",
      "sachin Guldagad\n"
     ]
    }
   ],
   "source": [
    "punctuations = '''!()-[]{};:'\"\\,<>./?@#$%^&*_~'''\n",
    "no_punch =\"\"\n",
    "sentence = input(\"Enter the sentence\")\n",
    "for char in sentence:\n",
    "    if char not in punctuations:\n",
    "        no_punch+=char\n",
    "print(no_punch)"
   ]
  },
  {
   "cell_type": "code",
   "execution_count": null,
   "id": "32edf0b1",
   "metadata": {},
   "outputs": [],
   "source": []
  }
 ],
 "metadata": {
  "kernelspec": {
   "display_name": "Python 3 (ipykernel)",
   "language": "python",
   "name": "python3"
  },
  "language_info": {
   "codemirror_mode": {
    "name": "ipython",
    "version": 3
   },
   "file_extension": ".py",
   "mimetype": "text/x-python",
   "name": "python",
   "nbconvert_exporter": "python",
   "pygments_lexer": "ipython3",
   "version": "3.9.7"
  }
 },
 "nbformat": 4,
 "nbformat_minor": 5
}
