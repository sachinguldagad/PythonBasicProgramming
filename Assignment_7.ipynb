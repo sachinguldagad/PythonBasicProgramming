{
 "cells": [
  {
   "cell_type": "markdown",
   "id": "b6dc7881",
   "metadata": {},
   "source": [
    "# 1.\tWrite a Python Program to find sum of array?"
   ]
  },
  {
   "cell_type": "code",
   "execution_count": 6,
   "id": "ee9f7dc3",
   "metadata": {},
   "outputs": [
    {
     "name": "stdout",
     "output_type": "stream",
     "text": [
      "enter the size of array3\n",
      "Enter element1\n",
      "Enter element2\n",
      "Enter element3\n",
      "Sum of array is 6\n"
     ]
    }
   ],
   "source": [
    "arraysize = int(input(\"enter the size of array\"))\n",
    "arr = [0]*arraysize\n",
    "for i in range(arraysize):\n",
    "    arr[i]=int(input(\"Enter element\"))\n",
    "'''To find sum of array we have to add every element in sum variable'''\n",
    "sum=0\n",
    "for i in range(len(arr)):\n",
    "    sum+=arr[i]\n",
    "print(\"Sum of array is\",sum)"
   ]
  },
  {
   "cell_type": "markdown",
   "id": "135c97bf",
   "metadata": {},
   "source": [
    "# 2.\tWrite a Python Program to find largest element in an array?"
   ]
  },
  {
   "cell_type": "code",
   "execution_count": 7,
   "id": "b978c75a",
   "metadata": {},
   "outputs": [
    {
     "name": "stdout",
     "output_type": "stream",
     "text": [
      "enter the size of array4\n",
      "Enter element12\n",
      "Enter element77\n",
      "Enter element34\n",
      "Enter element99\n",
      "Largest element in an array is 99\n"
     ]
    }
   ],
   "source": [
    "arraysize = int(input(\"enter the size of array\"))\n",
    "arr = [0]*arraysize\n",
    "for i in range(arraysize):\n",
    "    arr[i]=int(input(\"Enter element\"))\n",
    "'''To find largest element in array we have to compare each and every element'''\n",
    "max= -1\n",
    "for i in range(len(arr)):\n",
    "    if(max<arr[i]):\n",
    "        max=arr[i]\n",
    "print(\"Largest element in an array is\",max)"
   ]
  },
  {
   "cell_type": "markdown",
   "id": "a5450a3b",
   "metadata": {},
   "source": [
    "# 3.Write a Python Program for array rotation?"
   ]
  },
  {
   "cell_type": "code",
   "execution_count": 20,
   "id": "0635899f",
   "metadata": {},
   "outputs": [
    {
     "name": "stdout",
     "output_type": "stream",
     "text": [
      "Array after left rotation is:  [3, 4, 5, 6, 7, 1, 2]\n"
     ]
    }
   ],
   "source": [
    "def rotateArray(arr, n, d):\n",
    "    temp = []\n",
    "    i = 0\n",
    "    while (i < d):\n",
    "        temp.append(arr[i])\n",
    "        i = i + 1\n",
    "    i = 0\n",
    "    while (d < n):\n",
    "        arr[i] = arr[d]\n",
    "        i = i + 1\n",
    "        d = d + 1\n",
    "    arr[:] = arr[: i] + temp\n",
    "    return arr\n",
    " \n",
    " \n",
    "# Driver function to test above function\n",
    "arr = [1, 2, 3, 4, 5, 6, 7]\n",
    "print(\"Array after left rotation is: \", end=' ')\n",
    "print(rotateArray(arr, len(arr), 2))\n",
    " "
   ]
  },
  {
   "cell_type": "markdown",
   "id": "79c4db30",
   "metadata": {},
   "source": [
    "# 4.Write a Python Program to Split the array and add the first part to the end?"
   ]
  },
  {
   "cell_type": "code",
   "execution_count": 27,
   "id": "6b5dfc30",
   "metadata": {},
   "outputs": [
    {
     "name": "stdout",
     "output_type": "stream",
     "text": [
      "enter the size of array6\n",
      "Enter element1\n",
      "Enter element2\n",
      "Enter element3\n",
      "Enter element4\n",
      "Enter element4\n",
      "Enter element4\n",
      "5\n",
      "6\n",
      "7\n"
     ]
    }
   ],
   "source": [
    "arraysize = int(input(\"enter the size of array\"))\n",
    "arr = [0]*arraysize\n",
    "for i in range(arraysize):\n",
    "    arr[i]=int(input(\"Enter element\"))\n",
    "'''First we have to split array'''\n",
    "split_from_position = int(arraysize/2)-1\n",
    "for i in range(split_from_position+1):\n",
    "    arr[split_from_position+1]+=arr[i]\n",
    "    split_from_position=split_from_position+1\n",
    "for i in range(int(arraysize/2),len(arr)):\n",
    "    print(arr[i])"
   ]
  },
  {
   "cell_type": "markdown",
   "id": "a05fd57d",
   "metadata": {},
   "source": [
    "# 5.\tWrite a Python Program to check if given array is Monotonic?"
   ]
  },
  {
   "cell_type": "code",
   "execution_count": 28,
   "id": "84291f07",
   "metadata": {},
   "outputs": [
    {
     "name": "stdout",
     "output_type": "stream",
     "text": [
      "True\n"
     ]
    }
   ],
   "source": [
    "\n",
    "# Python3 program to find sum in Nth group\n",
    "  \n",
    "# Check if given array is Monotonic\n",
    "def isMonotonic(A):\n",
    "  \n",
    "    return (all(A[i] <= A[i + 1] for i in range(len(A) - 1)) or\n",
    "            all(A[i] >= A[i + 1] for i in range(len(A) - 1)))\n",
    "  \n",
    "# Driver program\n",
    "A = [6, 5, 4, 4]\n",
    "  \n",
    "# Print required result\n",
    "print(isMonotonic(A))"
   ]
  }
 ],
 "metadata": {
  "kernelspec": {
   "display_name": "Python 3 (ipykernel)",
   "language": "python",
   "name": "python3"
  },
  "language_info": {
   "codemirror_mode": {
    "name": "ipython",
    "version": 3
   },
   "file_extension": ".py",
   "mimetype": "text/x-python",
   "name": "python",
   "nbconvert_exporter": "python",
   "pygments_lexer": "ipython3",
   "version": "3.9.7"
  }
 },
 "nbformat": 4,
 "nbformat_minor": 5
}
