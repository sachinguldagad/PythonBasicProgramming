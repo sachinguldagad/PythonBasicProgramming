{
 "cells": [
  {
   "cell_type": "markdown",
   "id": "c4f6d769",
   "metadata": {},
   "source": [
    "# Question1. Write a function that stutters a word as if someone is struggling to read it. The first two letters are repeated twice with an ellipsis ... and space after each, and then the word is pronounced with a question mark ?.\n",
    "Examples\n",
    "stutter(\"incredible\") ➞ \"in... in... incredible?\"\n",
    "\n",
    "stutter(\"enthusiastic\") ➞ \"en... en... enthusiastic?\"\n",
    "\n",
    "stutter(\"outstanding\") ➞ \"ou... ou... outstanding?\"\n",
    "\n",
    "Hint :- Assume all input is in lower case and at least two characters long.\n",
    "\n"
   ]
  },
  {
   "cell_type": "code",
   "execution_count": 1,
   "id": "e2d4a9de",
   "metadata": {},
   "outputs": [
    {
     "name": "stdout",
     "output_type": "stream",
     "text": [
      "Enter string: incredible\n",
      "in... in... incredible?\n"
     ]
    }
   ],
   "source": [
    "class practice:\n",
    "    def stutter(self,input): \n",
    "        count=0\n",
    "        result=\"\"\n",
    "        while(count!=2):\n",
    "            result+=input[:2]\n",
    "            result+=\"... \"\n",
    "            count+=1\n",
    "        result+=input\n",
    "        result+=\"?\"\n",
    "        print(result)\n",
    "input1=input(\"Enter string: \")\n",
    "p=practice()\n",
    "p.stutter(input1)\n"
   ]
  },
  {
   "cell_type": "markdown",
   "id": "ee83ec01",
   "metadata": {},
   "source": [
    "# Question 2.Create a function that takes an angle in radians and returns the corresponding angle in degrees rounded to one decimal place.\n",
    "Examples\n",
    "radians_to_degrees(1) ➞ 57.3\n",
    "\n",
    "radians_to_degrees(20) ➞ 1145.9\n",
    "\n",
    "radians_to_degrees(50) ➞ 2864.8\n",
    "\n",
    "\n"
   ]
  },
  {
   "cell_type": "code",
   "execution_count": 7,
   "id": "8f7015ab",
   "metadata": {},
   "outputs": [
    {
     "name": "stdout",
     "output_type": "stream",
     "text": [
      "Enter radian: 1\n",
      "57.3\n"
     ]
    }
   ],
   "source": [
    "import math\n",
    "class Conversion:\n",
    "    def radiantoangle(self, radian):\n",
    "        angle= radian*57.3\n",
    "        print(round(angle,1))\n",
    "input1=int(input(\"Enter radian: \"))\n",
    "c=Conversion()\n",
    "c.radiantoangle(input1)\n",
    "        "
   ]
  },
  {
   "cell_type": "markdown",
   "id": "92bd56d7",
   "metadata": {},
   "source": [
    "# Question 3. In this challenge, establish if a given integer num is a Curzon number. If 1 plus 2 elevated to num is exactly divisible by 1 plus 2 multiplied by num, then num is a Curzon number.\n",
    "Given a non-negative integer num, implement a function that returns True if num is a Curzon number, or False otherwise.\n",
    "Examples\n",
    "is_curzon(5) ➞ True\n",
    "# 2 ** 5 + 1 = 33\n",
    "# 2 * 5 + 1 = 11\n",
    "# 33 is a multiple of 11\n",
    "\n",
    "is_curzon(10) ➞ False\n",
    "# 2 ** 10 + 1 = 1025\n",
    "# 2 * 10 + 1 = 21\n",
    "# 1025 is not a multiple of 21\n",
    "\n",
    "is_curzon(14) ➞ True\n",
    "# 2 ** 14 + 1 = 16385\n",
    "# 2 * 14 + 1 = 29\n",
    "# 16385 is a multiple of 29\n",
    "\n"
   ]
  },
  {
   "cell_type": "code",
   "execution_count": 10,
   "id": "0afcbe8f",
   "metadata": {},
   "outputs": [
    {
     "name": "stdout",
     "output_type": "stream",
     "text": [
      "Enter number: 6\n",
      "65\n",
      "13\n",
      "0\n",
      "is curzon\n"
     ]
    }
   ],
   "source": [
    "class Check:\n",
    "    def is_curzon(self, number):\n",
    "        result=0\n",
    "        result=2**number+1 \n",
    "        print(result)\n",
    "        divider=2*number+1\n",
    "        print(divider)\n",
    "        number1= result%divider\n",
    "        print(number1)\n",
    "        if number1==0:\n",
    "            return True\n",
    "        else:\n",
    "            return False\n",
    "number = int(input(\"Enter number: \"))\n",
    "c=Check()\n",
    "output=c.is_curzon(number)\n",
    "if output == True:\n",
    "    print(\"is curzon\")\n",
    "else:\n",
    "    print(\"is not curzon\")"
   ]
  },
  {
   "cell_type": "markdown",
   "id": "dbdc6470",
   "metadata": {},
   "source": [
    "# Question 4.Given the side length x find the area of a hexagon.\n",
    " \n",
    "Examples\n",
    "area_of_hexagon(1) ➞ 2.6\n",
    "\n",
    "area_of_hexagon(2) ➞ 10.4\n",
    "\n",
    "area_of_hexagon(3) ➞ 23.4"
   ]
  },
  {
   "cell_type": "code",
   "execution_count": 11,
   "id": "a6975fa0",
   "metadata": {},
   "outputs": [
    {
     "name": "stdout",
     "output_type": "stream",
     "text": [
      "Area: 41.5692\n"
     ]
    }
   ],
   "source": [
    "\n",
    "# Python3 program to find\n",
    "# area of a Hexagon\n",
    "import math\n",
    "  \n",
    "# Function for calculating \n",
    "# area of the hexagon.\n",
    "def hexagonArea(s):\n",
    "      \n",
    "    return ((3 * math.sqrt(3) * \n",
    "            (s * s)) / 2); \n",
    "      \n",
    "# Driver code     \n",
    "if __name__ == \"__main__\" : \n",
    "  \n",
    "    # length of a side. \n",
    "    s = 4\n",
    "  \n",
    "    print(\"Area:\",\"{0:.4f}\" . \n",
    "           format(hexagonArea(s)))\n",
    "  \n"
   ]
  },
  {
   "cell_type": "markdown",
   "id": "71a3a43c",
   "metadata": {},
   "source": [
    "# Question 5. Create a function that returns a base-2 (binary) representation of a base-10 (decimal) string number. To convert is simple: ((2) means base-2 and (10) means base-10) 010101001(2) = 1 + 8 + 32 + 128.\n",
    "Going from right to left, the value of the most right bit is 1, now from that every bit to the left will be x2 the value, value of an 8 bit binary numbers are (256, 128, 64, 32, 16, 8, 4, 2, 1).\n",
    "Examples\n",
    "binary(1) ➞ \"1\"\n",
    "# 1*1 = 1\n",
    "\n",
    "binary(5) ➞ \"101\"\n",
    "# 1*1 + 1*4 = 5\n",
    "\n",
    "binary(10) ➞ \"1010\"\n",
    "# 1*2 + 1*8 = 10\n",
    "# "
   ]
  },
  {
   "cell_type": "code",
   "execution_count": 12,
   "id": "fe8144b7",
   "metadata": {},
   "outputs": [
    {
     "name": "stdout",
     "output_type": "stream",
     "text": [
      "011000"
     ]
    }
   ],
   "source": [
    "\n",
    "# Function to convert decimal number\n",
    "# to binary using recursion\n",
    "def DecimalToBinary(num):\n",
    "     \n",
    "    if num >= 1:\n",
    "        DecimalToBinary(num // 2)\n",
    "    print(num % 2, end = '')\n",
    " \n",
    "# Driver Code\n",
    "if __name__ == '__main__':\n",
    "     \n",
    "    # decimal value\n",
    "    dec_val = 24\n",
    "     \n",
    "    # Calling function\n",
    "    DecimalToBinary(dec_val)"
   ]
  },
  {
   "cell_type": "code",
   "execution_count": null,
   "id": "e9c5d0b9",
   "metadata": {},
   "outputs": [],
   "source": []
  }
 ],
 "metadata": {
  "kernelspec": {
   "display_name": "Python 3 (ipykernel)",
   "language": "python",
   "name": "python3"
  },
  "language_info": {
   "codemirror_mode": {
    "name": "ipython",
    "version": 3
   },
   "file_extension": ".py",
   "mimetype": "text/x-python",
   "name": "python",
   "nbconvert_exporter": "python",
   "pygments_lexer": "ipython3",
   "version": "3.9.7"
  }
 },
 "nbformat": 4,
 "nbformat_minor": 5
}
