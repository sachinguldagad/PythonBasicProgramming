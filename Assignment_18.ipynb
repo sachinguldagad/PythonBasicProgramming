{
 "cells": [
  {
   "cell_type": "markdown",
   "id": "fd73fd38",
   "metadata": {},
   "source": [
    "# Question 1\n",
    "Create a function that takes a list of non-negative integers and strings and return a new list without the strings.\n",
    "Examples\n",
    "filter_list([1, 2, \"a\", \"b\"]) ➞ [1, 2]\n",
    "\n",
    "filter_list([1, \"a\", \"b\", 0, 15]) ➞ [1, 0, 15]\n",
    "\n",
    "filter_list([1, 2, \"aasf\", \"1\", \"123\", 123]) ➞ [1, 2, 123]\n",
    "\n"
   ]
  },
  {
   "cell_type": "code",
   "execution_count": 11,
   "id": "3d487264",
   "metadata": {},
   "outputs": [
    {
     "name": "stdout",
     "output_type": "stream",
     "text": [
      "[1, 2]\n"
     ]
    }
   ],
   "source": [
    "l = [1,2,'a','b']\n",
    "\n",
    "def filter_list(l):\n",
    "    new_list = []\n",
    "    for x in l:\n",
    "        if type(x) == int:\n",
    "            new_list.append(x)\n",
    "    return new_list\n",
    "\n",
    "print(filter_list(l))"
   ]
  },
  {
   "cell_type": "markdown",
   "id": "d67919b5",
   "metadata": {},
   "source": [
    "# Question 2\n",
    "The \"Reverser\" takes a string as input and returns that string in reverse order, with the opposite case.\n",
    "Examples\n",
    "reverse(\"Hello World\") ➞ \"DLROw OLLEh\"\n",
    "\n",
    "reverse(\"ReVeRsE\") ➞ \"eSrEvEr\"\n",
    "\n",
    "reverse(\"Radar\") ➞ \"RADAr\"\n",
    "\n"
   ]
  },
  {
   "cell_type": "code",
   "execution_count": 7,
   "id": "f3f53e29",
   "metadata": {},
   "outputs": [
    {
     "name": "stdout",
     "output_type": "stream",
     "text": [
      "Enter input: Hello World\n",
      "DLROw OLLEh\n"
     ]
    }
   ],
   "source": [
    "def Reverser(str1):\n",
    "    str2=\"\"\n",
    "    for ch in str1:\n",
    "        if ch.isupper():\n",
    "            ch=ch.lower()\n",
    "        else:\n",
    "            ch=ch.upper()\n",
    "        str2+=ch\n",
    "    str2=str2[::-1]\n",
    "    return str2\n",
    "str1=input(\"Enter input: \")\n",
    "result=Reverser(str1)\n",
    "print(result)"
   ]
  },
  {
   "cell_type": "markdown",
   "id": "7fa21ac6",
   "metadata": {},
   "source": [
    "# Question 3\n",
    "You can assign variables from lists like this:\n",
    "lst = [1, 2, 3, 4, 5, 6]\n",
    "first = lst[0]\n",
    "middle = lst[1:-1]\n",
    "last = lst[-1]\n",
    "\n",
    "print(first) ➞ outputs 1\n",
    "print(middle) ➞ outputs [2, 3, 4, 5]\n",
    "print(last) ➞ outputs 6\n",
    "With Python 3, you can assign variables from lists in a much more succinct way. Create variables first, middle and last from the given list using destructuring assignment (check the Resources tab for some examples), where:\n",
    "first  ➞ 1\n",
    "\n",
    "middle ➞ [2, 3, 4, 5]\n",
    "\n",
    "last ➞ 6\n",
    "Your task is to unpack the list writeyourcodehere into three variables, being first, middle, and last, with middle being everything in between the first and last element. Then print all three variables.\n",
    "\n"
   ]
  },
  {
   "cell_type": "code",
   "execution_count": 12,
   "id": "b1d965aa",
   "metadata": {},
   "outputs": [
    {
     "name": "stdout",
     "output_type": "stream",
     "text": [
      "Enter number of elements: 4\n",
      "Enter element: sachin\n",
      "Enter element: balasaheb\n",
      "Enter element: guldagad\n",
      "Enter element: poonam\n",
      "First Element in list: sachin\n",
      "Middle elements in list:  ['balasaheb', 'guldagad']\n",
      "Last element in list poonam\n"
     ]
    }
   ],
   "source": [
    "def print_first_middle_last(list1):\n",
    "    print(\"First Element in list:\",list1[0])\n",
    "    print(\"Middle elements in list: \",list1[1:-1])\n",
    "    print(\"Last element in list\",list1[-1])\n",
    "length=int(input(\"Enter number of elements: \"))\n",
    "list=[]\n",
    "for i in range(length):\n",
    "    list.append(input(\"Enter element: \"))\n",
    "print_first_middle_last(list)"
   ]
  },
  {
   "cell_type": "markdown",
   "id": "a239855d",
   "metadata": {},
   "source": [
    "# Question 4\n",
    "Write a function that calculates the factorial of a number recursively.\n",
    "Examples\n",
    "factorial(5) ➞ 120\n",
    "\n",
    "factorial(3) ➞ 6\n",
    "\n",
    "factorial(1) ➞ 1\n",
    "\n",
    "factorial(0) ➞ 1\n",
    "\n"
   ]
  },
  {
   "cell_type": "code",
   "execution_count": 2,
   "id": "c29a4545",
   "metadata": {},
   "outputs": [
    {
     "name": "stdout",
     "output_type": "stream",
     "text": [
      "Enter number: 5\n",
      "120\n"
     ]
    }
   ],
   "source": [
    "def Factorial(number):\n",
    "    if number==0:\n",
    "        return 1\n",
    "    return Factorial(number-1)*number\n",
    "print(Factorial(int(input(\"Enter number: \"))))\n"
   ]
  },
  {
   "cell_type": "markdown",
   "id": "1a07a52f",
   "metadata": {},
   "source": [
    "# Question 5\n",
    "Write a function that moves all elements of one type to the end of the list.\n",
    "Examples\n",
    "move_to_end([1, 3, 2, 4, 4, 1], 1) ➞ [3, 2, 4, 4, 1, 1]\n",
    "# Move all the 1s to the end of the array.\n",
    "\n",
    "move_to_end([7, 8, 9, 1, 2, 3, 4], 9) ➞ [7, 8, 1, 2, 3, 4, 9]\n",
    "\n",
    "move_to_end([\"a\", \"a\", \"a\", \"b\"], \"a\") ➞ [\"b\", \"a\", \"a\", \"a\"]\n"
   ]
  },
  {
   "cell_type": "code",
   "execution_count": 7,
   "id": "c0af1ee1",
   "metadata": {},
   "outputs": [
    {
     "name": "stdout",
     "output_type": "stream",
     "text": [
      "Enter number of elements: 5\n",
      "Enter element: 1\n",
      "Enter element: sachin\n",
      "Enter element: 2\n",
      "Enter element: poonam\n",
      "Enter element: 5\n",
      "Enter element to move at end: sachin\n",
      "Element is present in list\n",
      "Element is present in list\n",
      "Element is present in list\n",
      "['1', '2', 'poonam', '5', 'sachin']\n"
     ]
    }
   ],
   "source": [
    "def move_to_end(list1,element):\n",
    "    for ele in list1:\n",
    "        if element==ele:\n",
    "            list1.remove(element)\n",
    "            list1.append(element)\n",
    "        else:\n",
    "            print(\"Element is present in list\")\n",
    "    return list1\n",
    "length=int(input(\"Enter number of elements: \"))\n",
    "list=[]\n",
    "for i in range(length):\n",
    "    list.append(input(\"Enter element: \"))\n",
    "element=input(\"Enter element to move at end: \")\n",
    "list1=move_to_end(list,element)\n",
    "print(list1)"
   ]
  },
  {
   "cell_type": "code",
   "execution_count": null,
   "id": "2b51fd4c",
   "metadata": {},
   "outputs": [],
   "source": []
  }
 ],
 "metadata": {
  "kernelspec": {
   "display_name": "Python 3 (ipykernel)",
   "language": "python",
   "name": "python3"
  },
  "language_info": {
   "codemirror_mode": {
    "name": "ipython",
    "version": 3
   },
   "file_extension": ".py",
   "mimetype": "text/x-python",
   "name": "python",
   "nbconvert_exporter": "python",
   "pygments_lexer": "ipython3",
   "version": "3.9.7"
  }
 },
 "nbformat": 4,
 "nbformat_minor": 5
}
