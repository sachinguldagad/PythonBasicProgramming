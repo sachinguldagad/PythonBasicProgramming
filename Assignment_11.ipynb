{
 "cells": [
  {
   "cell_type": "markdown",
   "id": "50f10876",
   "metadata": {},
   "source": [
    "# 1.Write a Python program to find words which are greater than given length k?"
   ]
  },
  {
   "cell_type": "code",
   "execution_count": 3,
   "id": "6db798e0",
   "metadata": {},
   "outputs": [
    {
     "name": "stdout",
     "output_type": "stream",
     "text": [
      "Enter length3\n",
      "Enter size of list5\n",
      "sa\n",
      "sach\n",
      "dfwe\n",
      "s\n",
      "cdde\n",
      "['sa', 'sach', 'dfwe', 's', 'cdde']\n",
      "Words whose length are greater than given length k['sach', 'dfwe', 'cdde']\n"
     ]
    }
   ],
   "source": [
    "length=int(input(\"Enter length\"))\n",
    "size=int(input(\"Enter size of list\"))\n",
    "lst=[]\n",
    "i=0\n",
    "while(size!=i):\n",
    "    element=input()\n",
    "    i+=1\n",
    "    lst.append(element)\n",
    "print(lst)\n",
    "res=[i for i in lst if len(i)>length]\n",
    "print(\"Words whose length are greater than given length k\"+str(res))"
   ]
  },
  {
   "cell_type": "markdown",
   "id": "d2700db5",
   "metadata": {},
   "source": [
    "# 2.Write a Python program for removing i-th character from a string?"
   ]
  },
  {
   "cell_type": "code",
   "execution_count": 5,
   "id": "886a00b0",
   "metadata": {},
   "outputs": [
    {
     "name": "stdout",
     "output_type": "stream",
     "text": [
      "geeksORgeeks\n"
     ]
    }
   ],
   "source": [
    "def remove(string, i): \n",
    "  \n",
    "    for j in range(len(string)):\n",
    "        if j == i:\n",
    "            string = string.replace(string[i], \"\", 1)\n",
    "    return string\n",
    "      \n",
    "# Driver Code\n",
    "if __name__ == '__main__':\n",
    "      \n",
    "    string = \"geeksFORgeeks\"\n",
    "      \n",
    "    # Remove nth index element\n",
    "    i = 5\n",
    "    \n",
    "    # Print the new string\n",
    "    print(remove(string, i))"
   ]
  },
  {
   "cell_type": "markdown",
   "id": "fc2c9cdd",
   "metadata": {},
   "source": [
    "# 3.Write a Python program to split and join a string?"
   ]
  },
  {
   "cell_type": "code",
   "execution_count": 1,
   "id": "ad71485c",
   "metadata": {},
   "outputs": [
    {
     "name": "stdout",
     "output_type": "stream",
     "text": [
      "Enter first String with space :: sachin guldagad\n",
      "['sachin', 'guldagad']\n",
      "Enter second String with (,) :: poonam,nilesh\n",
      "['poonam', 'nilesh']\n",
      "Enter third String with (:) :: poonam:nilesh\n",
      "['poonam', 'nilesh']\n",
      "Enter fourth String with (;) :: sachin;guldagad\n",
      "['sachin', 'guldagad']\n",
      "Enter fifth String without space :: sachinguldagad\n",
      "['sa', 'ch', 'in', 'gu', 'ld', 'ag', 'ad']\n"
     ]
    }
   ],
   "source": [
    "str1=input(\"Enter first String with space :: \")\n",
    "print(str1.split())    #splits at space\n",
    "\n",
    "str2=input(\"Enter second String with (,) :: \")\n",
    "print(str2.split(','))    #splits at ','\n",
    "\n",
    "str3=input(\"Enter third String with (:) :: \")\n",
    "print(str3.split(':'))    #splits at ':'\n",
    "\n",
    "str4=input(\"Enter fourth String with (;) :: \")\n",
    "print(str4.split(';'))    #splits at ';'\n",
    "\n",
    "str5=input(\"Enter fifth String without space :: \")\n",
    "print([str5[i:i+2]for i in range(0,len(str5),2)])    #splits at position 2\n",
    "\n"
   ]
  },
  {
   "cell_type": "code",
   "execution_count": 3,
   "id": "3508f995",
   "metadata": {},
   "outputs": [
    {
     "name": "stdout",
     "output_type": "stream",
     "text": [
      "Enter first String   :: sachin\n",
      "Enter second String  ::  guldagad\n",
      "AFTER JOINING OF TWO STRING ::> s guldagada guldagadc guldagadh guldagadi guldagadn\n"
     ]
    }
   ],
   "source": [
    "#string joining\n",
    "str1=input(\"Enter first String   :: \")\n",
    "str2=input(\"Enter second String  :: \")\n",
    "str=str2.join(str1)     #each character of str1 is concatenated to the #front of str2\n",
    "print(\"AFTER JOINING OF TWO STRING ::>\",str)"
   ]
  },
  {
   "cell_type": "markdown",
   "id": "7c001557",
   "metadata": {},
   "source": [
    "# 4.Write a Python to check if a given string is binary string or not?\n"
   ]
  },
  {
   "cell_type": "code",
   "execution_count": 4,
   "id": "cfd4f476",
   "metadata": {},
   "outputs": [
    {
     "name": "stdout",
     "output_type": "stream",
     "text": [
      "Yes\n"
     ]
    }
   ],
   "source": [
    "# Python program to check\n",
    "# if a string is binary or not\n",
    " \n",
    "# function for checking the\n",
    "# string is accepted or not\n",
    "def check(string) :\n",
    " \n",
    "    # set function convert string\n",
    "    # into set of characters .\n",
    "    p = set(string)\n",
    " \n",
    "    # declare set of '0', '1' .\n",
    "    s = {'0', '1'}\n",
    " \n",
    "    # check set p is same as set s\n",
    "    # or set p contains only '0'\n",
    "    # or set p contains only '1'\n",
    "    # or not, if any one condition\n",
    "    # is true then string is accepted\n",
    "    # otherwise not .\n",
    "    if s == p or p == {'0'} or p == {'1'}:\n",
    "        print(\"Yes\")\n",
    "    else :\n",
    "        print(\"No\")\n",
    " \n",
    " \n",
    "         \n",
    "# driver code\n",
    "if __name__ == \"__main__\" :\n",
    " \n",
    "    string = \"101010000111\"\n",
    " \n",
    "    # function calling\n",
    "    check(string)"
   ]
  },
  {
   "cell_type": "markdown",
   "id": "de532810",
   "metadata": {},
   "source": [
    "# 5.Write a Python program to find uncommon words from two Strings?\n"
   ]
  },
  {
   "cell_type": "code",
   "execution_count": 5,
   "id": "e4f7a1cb",
   "metadata": {},
   "outputs": [
    {
     "name": "stdout",
     "output_type": "stream",
     "text": [
      " apple fruits\n"
     ]
    }
   ],
   "source": [
    "def uncommon(a,b):\n",
    "    list_a = a.split()\n",
    "    list_b = b.split()\n",
    "    uc = ''\n",
    "    for i in list_a:\n",
    "        if i not in list_b:\n",
    "            uc = uc+\" \"+i\n",
    "    for j in list_b:\n",
    "        if j not in list_a:\n",
    "            uc = uc+\" \"+j\n",
    "  \n",
    "    return uc\n",
    "  \n",
    "# Driver code\n",
    "a = \"apple banana mango\"\n",
    "b = \"banana fruits mango\"\n",
    "print(uncommon(a,b))"
   ]
  },
  {
   "cell_type": "markdown",
   "id": "78486eb0",
   "metadata": {},
   "source": [
    "# 6.Write a Python to find all duplicate characters in string?"
   ]
  },
  {
   "cell_type": "code",
   "execution_count": 8,
   "id": "961113ff",
   "metadata": {},
   "outputs": [
    {
     "name": "stdout",
     "output_type": "stream",
     "text": [
      "Insert stringsadcgeyfddsfgy\n",
      "['s', 'd', 'g', 'y', 'f']\n"
     ]
    }
   ],
   "source": [
    "inputString=input(\"Insert string\")\n",
    "duplicates=[]\n",
    "for i in inputString:\n",
    "    if inputString.count(i)>1:\n",
    "        if i not in duplicates:\n",
    "            duplicates.append(i)\n",
    "print(duplicates)"
   ]
  },
  {
   "cell_type": "markdown",
   "id": "e3a97660",
   "metadata": {},
   "source": [
    "# 7.Write a Python Program to check if a string contains any special character?"
   ]
  },
  {
   "cell_type": "code",
   "execution_count": 9,
   "id": "2159d5d1",
   "metadata": {},
   "outputs": [
    {
     "name": "stdout",
     "output_type": "stream",
     "text": [
      "String is not accepted.\n"
     ]
    }
   ],
   "source": [
    "# Python3 program to check if a string\n",
    "# contains any special character\n",
    "  \n",
    "# import required package\n",
    "import re\n",
    "  \n",
    "# Function checks if the string\n",
    "# contains any special character\n",
    "def run(string):\n",
    "  \n",
    "    # Make own character set and pass \n",
    "    # this as argument in compile method\n",
    "    regex = re.compile('[@_!#$%^&*()<>?/\\|}{~:]')\n",
    "      \n",
    "    # Pass the string in search \n",
    "    # method of regex object.    \n",
    "    if(regex.search(string) == None):\n",
    "        print(\"String is accepted\")\n",
    "          \n",
    "    else:\n",
    "        print(\"String is not accepted.\")\n",
    "      \n",
    "  \n",
    "# Driver Code\n",
    "if __name__ == '__main__' :\n",
    "      \n",
    "    # Enter the string\n",
    "    string = \"Geeks$For$Geeks\"\n",
    "      \n",
    "    # calling run function \n",
    "    run(string)"
   ]
  }
 ],
 "metadata": {
  "kernelspec": {
   "display_name": "Python 3 (ipykernel)",
   "language": "python",
   "name": "python3"
  },
  "language_info": {
   "codemirror_mode": {
    "name": "ipython",
    "version": 3
   },
   "file_extension": ".py",
   "mimetype": "text/x-python",
   "name": "python",
   "nbconvert_exporter": "python",
   "pygments_lexer": "ipython3",
   "version": "3.9.7"
  }
 },
 "nbformat": 4,
 "nbformat_minor": 5
}
